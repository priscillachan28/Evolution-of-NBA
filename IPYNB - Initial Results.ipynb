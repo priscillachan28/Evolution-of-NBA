{
 "cells": [
  {
   "cell_type": "markdown",
   "id": "53fd8f25",
   "metadata": {},
   "source": [
    "# CIND820 Initial Results and Code"
   ]
  },
  {
   "cell_type": "markdown",
   "id": "96070858",
   "metadata": {},
   "source": [
    "#### Summary of Questions"
   ]
  },
  {
   "cell_type": "markdown",
   "id": "769cc2d2",
   "metadata": {},
   "source": [
    "• How have NBA players been transforming the game of basketball to take advantage of the different types of scoring methods in the last 40 years? <br>\n",
    "• How accurate are the player positions classified? Does the skillset of the player match up with the position that they are labelled? <br>\n",
    "• Should the player positions remain the same or should they be revised? "
   ]
  },
  {
   "cell_type": "markdown",
   "id": "0e68cabe",
   "metadata": {},
   "source": [
    "GitHub Link - https://github.com/priscillachan28/Evolution-of-NBA"
   ]
  },
  {
   "cell_type": "markdown",
   "id": "0fdb2bfb",
   "metadata": {},
   "source": [
    "#### Import Libaries"
   ]
  },
  {
   "cell_type": "code",
   "execution_count": 1,
   "id": "1d6a8ed2",
   "metadata": {},
   "outputs": [],
   "source": [
    "import numpy as np\n",
    "import pandas as pd\n",
    "import matplotlib.pyplot as plt\n",
    "import seaborn as sns\n",
    "from scipy import stats\n",
    "from sklearn import linear_model\n",
    "from sklearn.linear_model import LogisticRegression\n",
    "from sklearn import preprocessing\n",
    "import pandas\n",
    "from collections import Counter\n",
    "from sklearn.datasets import make_classification\n",
    "from sklearn.model_selection import train_test_split\n",
    "from sklearn.metrics import classification_report\n",
    "from sklearn import metrics \n",
    "from sklearn.metrics import confusion_matrix\n",
    "from sklearn.metrics import matthews_corrcoef\n",
    "from sklearn.model_selection import RepeatedKFold\n",
    "from sklearn.model_selection import cross_val_score\n",
    "from numpy import mean\n",
    "from numpy import std"
   ]
  },
  {
   "cell_type": "markdown",
   "id": "94a839c3",
   "metadata": {},
   "source": [
    "#### Data Preparation"
   ]
  },
  {
   "cell_type": "markdown",
   "id": "31697d2f",
   "metadata": {},
   "source": [
    "Dataset was taken from kaggle: https://www.kaggle.com/datasets/drgilermo/nba-players-stats. This dataset shows the individual NBA player stats since 1950.\n",
    "\n",
    "Downloaded .xlsx file from Kaggle and read Excel file"
   ]
  },
  {
   "cell_type": "code",
   "execution_count": 2,
   "id": "7c49a86c",
   "metadata": {},
   "outputs": [],
   "source": [
    "season_stats = pd.read_csv('C:/Users/priis/Documents/CIND820/nba player stats/Seasons_Stats.csv')\n",
    "player_data = pd.read_csv('C:/Users/priis/Documents/CIND820/nba player stats/Players.csv')"
   ]
  },
  {
   "cell_type": "code",
   "execution_count": 3,
   "id": "78afd055",
   "metadata": {},
   "outputs": [
    {
     "data": {
      "text/html": [
       "<div>\n",
       "<style scoped>\n",
       "    .dataframe tbody tr th:only-of-type {\n",
       "        vertical-align: middle;\n",
       "    }\n",
       "\n",
       "    .dataframe tbody tr th {\n",
       "        vertical-align: top;\n",
       "    }\n",
       "\n",
       "    .dataframe thead th {\n",
       "        text-align: right;\n",
       "    }\n",
       "</style>\n",
       "<table border=\"1\" class=\"dataframe\">\n",
       "  <thead>\n",
       "    <tr style=\"text-align: right;\">\n",
       "      <th></th>\n",
       "      <th>Unnamed: 0</th>\n",
       "      <th>Year</th>\n",
       "      <th>Player</th>\n",
       "      <th>Pos</th>\n",
       "      <th>Age</th>\n",
       "      <th>Tm</th>\n",
       "      <th>G</th>\n",
       "      <th>GS</th>\n",
       "      <th>MP</th>\n",
       "      <th>PER</th>\n",
       "      <th>...</th>\n",
       "      <th>FT%</th>\n",
       "      <th>ORB</th>\n",
       "      <th>DRB</th>\n",
       "      <th>TRB</th>\n",
       "      <th>AST</th>\n",
       "      <th>STL</th>\n",
       "      <th>BLK</th>\n",
       "      <th>TOV</th>\n",
       "      <th>PF</th>\n",
       "      <th>PTS</th>\n",
       "    </tr>\n",
       "  </thead>\n",
       "  <tbody>\n",
       "    <tr>\n",
       "      <th>0</th>\n",
       "      <td>0</td>\n",
       "      <td>1950.0</td>\n",
       "      <td>Curly Armstrong</td>\n",
       "      <td>G-F</td>\n",
       "      <td>31.0</td>\n",
       "      <td>FTW</td>\n",
       "      <td>63.0</td>\n",
       "      <td>NaN</td>\n",
       "      <td>NaN</td>\n",
       "      <td>NaN</td>\n",
       "      <td>...</td>\n",
       "      <td>0.705</td>\n",
       "      <td>NaN</td>\n",
       "      <td>NaN</td>\n",
       "      <td>NaN</td>\n",
       "      <td>176.0</td>\n",
       "      <td>NaN</td>\n",
       "      <td>NaN</td>\n",
       "      <td>NaN</td>\n",
       "      <td>217.0</td>\n",
       "      <td>458.0</td>\n",
       "    </tr>\n",
       "    <tr>\n",
       "      <th>1</th>\n",
       "      <td>1</td>\n",
       "      <td>1950.0</td>\n",
       "      <td>Cliff Barker</td>\n",
       "      <td>SG</td>\n",
       "      <td>29.0</td>\n",
       "      <td>INO</td>\n",
       "      <td>49.0</td>\n",
       "      <td>NaN</td>\n",
       "      <td>NaN</td>\n",
       "      <td>NaN</td>\n",
       "      <td>...</td>\n",
       "      <td>0.708</td>\n",
       "      <td>NaN</td>\n",
       "      <td>NaN</td>\n",
       "      <td>NaN</td>\n",
       "      <td>109.0</td>\n",
       "      <td>NaN</td>\n",
       "      <td>NaN</td>\n",
       "      <td>NaN</td>\n",
       "      <td>99.0</td>\n",
       "      <td>279.0</td>\n",
       "    </tr>\n",
       "    <tr>\n",
       "      <th>2</th>\n",
       "      <td>2</td>\n",
       "      <td>1950.0</td>\n",
       "      <td>Leo Barnhorst</td>\n",
       "      <td>SF</td>\n",
       "      <td>25.0</td>\n",
       "      <td>CHS</td>\n",
       "      <td>67.0</td>\n",
       "      <td>NaN</td>\n",
       "      <td>NaN</td>\n",
       "      <td>NaN</td>\n",
       "      <td>...</td>\n",
       "      <td>0.698</td>\n",
       "      <td>NaN</td>\n",
       "      <td>NaN</td>\n",
       "      <td>NaN</td>\n",
       "      <td>140.0</td>\n",
       "      <td>NaN</td>\n",
       "      <td>NaN</td>\n",
       "      <td>NaN</td>\n",
       "      <td>192.0</td>\n",
       "      <td>438.0</td>\n",
       "    </tr>\n",
       "    <tr>\n",
       "      <th>3</th>\n",
       "      <td>3</td>\n",
       "      <td>1950.0</td>\n",
       "      <td>Ed Bartels</td>\n",
       "      <td>F</td>\n",
       "      <td>24.0</td>\n",
       "      <td>TOT</td>\n",
       "      <td>15.0</td>\n",
       "      <td>NaN</td>\n",
       "      <td>NaN</td>\n",
       "      <td>NaN</td>\n",
       "      <td>...</td>\n",
       "      <td>0.559</td>\n",
       "      <td>NaN</td>\n",
       "      <td>NaN</td>\n",
       "      <td>NaN</td>\n",
       "      <td>20.0</td>\n",
       "      <td>NaN</td>\n",
       "      <td>NaN</td>\n",
       "      <td>NaN</td>\n",
       "      <td>29.0</td>\n",
       "      <td>63.0</td>\n",
       "    </tr>\n",
       "    <tr>\n",
       "      <th>4</th>\n",
       "      <td>4</td>\n",
       "      <td>1950.0</td>\n",
       "      <td>Ed Bartels</td>\n",
       "      <td>F</td>\n",
       "      <td>24.0</td>\n",
       "      <td>DNN</td>\n",
       "      <td>13.0</td>\n",
       "      <td>NaN</td>\n",
       "      <td>NaN</td>\n",
       "      <td>NaN</td>\n",
       "      <td>...</td>\n",
       "      <td>0.548</td>\n",
       "      <td>NaN</td>\n",
       "      <td>NaN</td>\n",
       "      <td>NaN</td>\n",
       "      <td>20.0</td>\n",
       "      <td>NaN</td>\n",
       "      <td>NaN</td>\n",
       "      <td>NaN</td>\n",
       "      <td>27.0</td>\n",
       "      <td>59.0</td>\n",
       "    </tr>\n",
       "  </tbody>\n",
       "</table>\n",
       "<p>5 rows × 53 columns</p>\n",
       "</div>"
      ],
      "text/plain": [
       "   Unnamed: 0    Year           Player  Pos   Age   Tm     G  GS  MP  PER  \\\n",
       "0           0  1950.0  Curly Armstrong  G-F  31.0  FTW  63.0 NaN NaN  NaN   \n",
       "1           1  1950.0     Cliff Barker   SG  29.0  INO  49.0 NaN NaN  NaN   \n",
       "2           2  1950.0    Leo Barnhorst   SF  25.0  CHS  67.0 NaN NaN  NaN   \n",
       "3           3  1950.0       Ed Bartels    F  24.0  TOT  15.0 NaN NaN  NaN   \n",
       "4           4  1950.0       Ed Bartels    F  24.0  DNN  13.0 NaN NaN  NaN   \n",
       "\n",
       "   ...    FT%  ORB  DRB  TRB    AST  STL  BLK  TOV     PF    PTS  \n",
       "0  ...  0.705  NaN  NaN  NaN  176.0  NaN  NaN  NaN  217.0  458.0  \n",
       "1  ...  0.708  NaN  NaN  NaN  109.0  NaN  NaN  NaN   99.0  279.0  \n",
       "2  ...  0.698  NaN  NaN  NaN  140.0  NaN  NaN  NaN  192.0  438.0  \n",
       "3  ...  0.559  NaN  NaN  NaN   20.0  NaN  NaN  NaN   29.0   63.0  \n",
       "4  ...  0.548  NaN  NaN  NaN   20.0  NaN  NaN  NaN   27.0   59.0  \n",
       "\n",
       "[5 rows x 53 columns]"
      ]
     },
     "execution_count": 3,
     "metadata": {},
     "output_type": "execute_result"
    }
   ],
   "source": [
    "season_stats.head()"
   ]
  },
  {
   "cell_type": "code",
   "execution_count": 4,
   "id": "fd8d6ba4",
   "metadata": {
    "scrolled": true
   },
   "outputs": [
    {
     "data": {
      "text/html": [
       "<div>\n",
       "<style scoped>\n",
       "    .dataframe tbody tr th:only-of-type {\n",
       "        vertical-align: middle;\n",
       "    }\n",
       "\n",
       "    .dataframe tbody tr th {\n",
       "        vertical-align: top;\n",
       "    }\n",
       "\n",
       "    .dataframe thead th {\n",
       "        text-align: right;\n",
       "    }\n",
       "</style>\n",
       "<table border=\"1\" class=\"dataframe\">\n",
       "  <thead>\n",
       "    <tr style=\"text-align: right;\">\n",
       "      <th></th>\n",
       "      <th>Unnamed: 0</th>\n",
       "      <th>Player</th>\n",
       "      <th>height</th>\n",
       "      <th>weight</th>\n",
       "      <th>collage</th>\n",
       "      <th>born</th>\n",
       "      <th>birth_city</th>\n",
       "      <th>birth_state</th>\n",
       "    </tr>\n",
       "  </thead>\n",
       "  <tbody>\n",
       "    <tr>\n",
       "      <th>0</th>\n",
       "      <td>0</td>\n",
       "      <td>Curly Armstrong</td>\n",
       "      <td>180.0</td>\n",
       "      <td>77.0</td>\n",
       "      <td>Indiana University</td>\n",
       "      <td>1918.0</td>\n",
       "      <td>NaN</td>\n",
       "      <td>NaN</td>\n",
       "    </tr>\n",
       "    <tr>\n",
       "      <th>1</th>\n",
       "      <td>1</td>\n",
       "      <td>Cliff Barker</td>\n",
       "      <td>188.0</td>\n",
       "      <td>83.0</td>\n",
       "      <td>University of Kentucky</td>\n",
       "      <td>1921.0</td>\n",
       "      <td>Yorktown</td>\n",
       "      <td>Indiana</td>\n",
       "    </tr>\n",
       "    <tr>\n",
       "      <th>2</th>\n",
       "      <td>2</td>\n",
       "      <td>Leo Barnhorst</td>\n",
       "      <td>193.0</td>\n",
       "      <td>86.0</td>\n",
       "      <td>University of Notre Dame</td>\n",
       "      <td>1924.0</td>\n",
       "      <td>NaN</td>\n",
       "      <td>NaN</td>\n",
       "    </tr>\n",
       "    <tr>\n",
       "      <th>3</th>\n",
       "      <td>3</td>\n",
       "      <td>Ed Bartels</td>\n",
       "      <td>196.0</td>\n",
       "      <td>88.0</td>\n",
       "      <td>North Carolina State University</td>\n",
       "      <td>1925.0</td>\n",
       "      <td>NaN</td>\n",
       "      <td>NaN</td>\n",
       "    </tr>\n",
       "    <tr>\n",
       "      <th>4</th>\n",
       "      <td>4</td>\n",
       "      <td>Ralph Beard</td>\n",
       "      <td>178.0</td>\n",
       "      <td>79.0</td>\n",
       "      <td>University of Kentucky</td>\n",
       "      <td>1927.0</td>\n",
       "      <td>Hardinsburg</td>\n",
       "      <td>Kentucky</td>\n",
       "    </tr>\n",
       "  </tbody>\n",
       "</table>\n",
       "</div>"
      ],
      "text/plain": [
       "   Unnamed: 0           Player  height  weight  \\\n",
       "0           0  Curly Armstrong   180.0    77.0   \n",
       "1           1     Cliff Barker   188.0    83.0   \n",
       "2           2    Leo Barnhorst   193.0    86.0   \n",
       "3           3       Ed Bartels   196.0    88.0   \n",
       "4           4      Ralph Beard   178.0    79.0   \n",
       "\n",
       "                           collage    born   birth_city birth_state  \n",
       "0               Indiana University  1918.0          NaN         NaN  \n",
       "1           University of Kentucky  1921.0     Yorktown     Indiana  \n",
       "2         University of Notre Dame  1924.0          NaN         NaN  \n",
       "3  North Carolina State University  1925.0          NaN         NaN  \n",
       "4           University of Kentucky  1927.0  Hardinsburg    Kentucky  "
      ]
     },
     "execution_count": 4,
     "metadata": {},
     "output_type": "execute_result"
    }
   ],
   "source": [
    "player_data.head()"
   ]
  },
  {
   "cell_type": "markdown",
   "id": "30430f2d",
   "metadata": {},
   "source": [
    "After showing the summary of the two Excel spreadsheets, we will be merging them together to create one dataset. "
   ]
  },
  {
   "cell_type": "code",
   "execution_count": 5,
   "id": "a1e23973",
   "metadata": {
    "scrolled": true
   },
   "outputs": [
    {
     "data": {
      "text/html": [
       "<div>\n",
       "<style scoped>\n",
       "    .dataframe tbody tr th:only-of-type {\n",
       "        vertical-align: middle;\n",
       "    }\n",
       "\n",
       "    .dataframe tbody tr th {\n",
       "        vertical-align: top;\n",
       "    }\n",
       "\n",
       "    .dataframe thead th {\n",
       "        text-align: right;\n",
       "    }\n",
       "</style>\n",
       "<table border=\"1\" class=\"dataframe\">\n",
       "  <thead>\n",
       "    <tr style=\"text-align: right;\">\n",
       "      <th></th>\n",
       "      <th>Unnamed: 0_x</th>\n",
       "      <th>Year</th>\n",
       "      <th>Player</th>\n",
       "      <th>Pos</th>\n",
       "      <th>Age</th>\n",
       "      <th>Tm</th>\n",
       "      <th>G</th>\n",
       "      <th>GS</th>\n",
       "      <th>MP</th>\n",
       "      <th>PER</th>\n",
       "      <th>...</th>\n",
       "      <th>TOV</th>\n",
       "      <th>PF</th>\n",
       "      <th>PTS</th>\n",
       "      <th>Unnamed: 0_y</th>\n",
       "      <th>height</th>\n",
       "      <th>weight</th>\n",
       "      <th>collage</th>\n",
       "      <th>born</th>\n",
       "      <th>birth_city</th>\n",
       "      <th>birth_state</th>\n",
       "    </tr>\n",
       "  </thead>\n",
       "  <tbody>\n",
       "    <tr>\n",
       "      <th>0</th>\n",
       "      <td>0</td>\n",
       "      <td>1950.0</td>\n",
       "      <td>Curly Armstrong</td>\n",
       "      <td>G-F</td>\n",
       "      <td>31.0</td>\n",
       "      <td>FTW</td>\n",
       "      <td>63.0</td>\n",
       "      <td>NaN</td>\n",
       "      <td>NaN</td>\n",
       "      <td>NaN</td>\n",
       "      <td>...</td>\n",
       "      <td>NaN</td>\n",
       "      <td>217.0</td>\n",
       "      <td>458.0</td>\n",
       "      <td>0</td>\n",
       "      <td>180.0</td>\n",
       "      <td>77.0</td>\n",
       "      <td>Indiana University</td>\n",
       "      <td>1918.0</td>\n",
       "      <td>NaN</td>\n",
       "      <td>NaN</td>\n",
       "    </tr>\n",
       "    <tr>\n",
       "      <th>1</th>\n",
       "      <td>314</td>\n",
       "      <td>1951.0</td>\n",
       "      <td>Curly Armstrong</td>\n",
       "      <td>G-F</td>\n",
       "      <td>32.0</td>\n",
       "      <td>FTW</td>\n",
       "      <td>38.0</td>\n",
       "      <td>NaN</td>\n",
       "      <td>NaN</td>\n",
       "      <td>NaN</td>\n",
       "      <td>...</td>\n",
       "      <td>NaN</td>\n",
       "      <td>97.0</td>\n",
       "      <td>202.0</td>\n",
       "      <td>0</td>\n",
       "      <td>180.0</td>\n",
       "      <td>77.0</td>\n",
       "      <td>Indiana University</td>\n",
       "      <td>1918.0</td>\n",
       "      <td>NaN</td>\n",
       "      <td>NaN</td>\n",
       "    </tr>\n",
       "    <tr>\n",
       "      <th>2</th>\n",
       "      <td>1</td>\n",
       "      <td>1950.0</td>\n",
       "      <td>Cliff Barker</td>\n",
       "      <td>SG</td>\n",
       "      <td>29.0</td>\n",
       "      <td>INO</td>\n",
       "      <td>49.0</td>\n",
       "      <td>NaN</td>\n",
       "      <td>NaN</td>\n",
       "      <td>NaN</td>\n",
       "      <td>...</td>\n",
       "      <td>NaN</td>\n",
       "      <td>99.0</td>\n",
       "      <td>279.0</td>\n",
       "      <td>1</td>\n",
       "      <td>188.0</td>\n",
       "      <td>83.0</td>\n",
       "      <td>University of Kentucky</td>\n",
       "      <td>1921.0</td>\n",
       "      <td>Yorktown</td>\n",
       "      <td>Indiana</td>\n",
       "    </tr>\n",
       "    <tr>\n",
       "      <th>3</th>\n",
       "      <td>315</td>\n",
       "      <td>1951.0</td>\n",
       "      <td>Cliff Barker</td>\n",
       "      <td>SG</td>\n",
       "      <td>30.0</td>\n",
       "      <td>INO</td>\n",
       "      <td>56.0</td>\n",
       "      <td>NaN</td>\n",
       "      <td>NaN</td>\n",
       "      <td>NaN</td>\n",
       "      <td>...</td>\n",
       "      <td>NaN</td>\n",
       "      <td>98.0</td>\n",
       "      <td>152.0</td>\n",
       "      <td>1</td>\n",
       "      <td>188.0</td>\n",
       "      <td>83.0</td>\n",
       "      <td>University of Kentucky</td>\n",
       "      <td>1921.0</td>\n",
       "      <td>Yorktown</td>\n",
       "      <td>Indiana</td>\n",
       "    </tr>\n",
       "    <tr>\n",
       "      <th>4</th>\n",
       "      <td>489</td>\n",
       "      <td>1952.0</td>\n",
       "      <td>Cliff Barker</td>\n",
       "      <td>SG</td>\n",
       "      <td>31.0</td>\n",
       "      <td>INO</td>\n",
       "      <td>44.0</td>\n",
       "      <td>NaN</td>\n",
       "      <td>494.0</td>\n",
       "      <td>10.8</td>\n",
       "      <td>...</td>\n",
       "      <td>NaN</td>\n",
       "      <td>56.0</td>\n",
       "      <td>126.0</td>\n",
       "      <td>1</td>\n",
       "      <td>188.0</td>\n",
       "      <td>83.0</td>\n",
       "      <td>University of Kentucky</td>\n",
       "      <td>1921.0</td>\n",
       "      <td>Yorktown</td>\n",
       "      <td>Indiana</td>\n",
       "    </tr>\n",
       "  </tbody>\n",
       "</table>\n",
       "<p>5 rows × 60 columns</p>\n",
       "</div>"
      ],
      "text/plain": [
       "   Unnamed: 0_x    Year           Player  Pos   Age   Tm     G  GS     MP  \\\n",
       "0             0  1950.0  Curly Armstrong  G-F  31.0  FTW  63.0 NaN    NaN   \n",
       "1           314  1951.0  Curly Armstrong  G-F  32.0  FTW  38.0 NaN    NaN   \n",
       "2             1  1950.0     Cliff Barker   SG  29.0  INO  49.0 NaN    NaN   \n",
       "3           315  1951.0     Cliff Barker   SG  30.0  INO  56.0 NaN    NaN   \n",
       "4           489  1952.0     Cliff Barker   SG  31.0  INO  44.0 NaN  494.0   \n",
       "\n",
       "    PER  ...  TOV     PF    PTS  Unnamed: 0_y  height  weight  \\\n",
       "0   NaN  ...  NaN  217.0  458.0             0   180.0    77.0   \n",
       "1   NaN  ...  NaN   97.0  202.0             0   180.0    77.0   \n",
       "2   NaN  ...  NaN   99.0  279.0             1   188.0    83.0   \n",
       "3   NaN  ...  NaN   98.0  152.0             1   188.0    83.0   \n",
       "4  10.8  ...  NaN   56.0  126.0             1   188.0    83.0   \n",
       "\n",
       "                  collage    born  birth_city  birth_state  \n",
       "0      Indiana University  1918.0         NaN          NaN  \n",
       "1      Indiana University  1918.0         NaN          NaN  \n",
       "2  University of Kentucky  1921.0    Yorktown      Indiana  \n",
       "3  University of Kentucky  1921.0    Yorktown      Indiana  \n",
       "4  University of Kentucky  1921.0    Yorktown      Indiana  \n",
       "\n",
       "[5 rows x 60 columns]"
      ]
     },
     "execution_count": 5,
     "metadata": {},
     "output_type": "execute_result"
    }
   ],
   "source": [
    "df = season_stats.merge(player_data, left_on='Player', right_on='Player')\n",
    "df.head()"
   ]
  },
  {
   "cell_type": "code",
   "execution_count": 6,
   "id": "469adec0",
   "metadata": {},
   "outputs": [
    {
     "data": {
      "text/html": [
       "<div>\n",
       "<style scoped>\n",
       "    .dataframe tbody tr th:only-of-type {\n",
       "        vertical-align: middle;\n",
       "    }\n",
       "\n",
       "    .dataframe tbody tr th {\n",
       "        vertical-align: top;\n",
       "    }\n",
       "\n",
       "    .dataframe thead th {\n",
       "        text-align: right;\n",
       "    }\n",
       "</style>\n",
       "<table border=\"1\" class=\"dataframe\">\n",
       "  <thead>\n",
       "    <tr style=\"text-align: right;\">\n",
       "      <th></th>\n",
       "      <th>Unnamed: 0_x</th>\n",
       "      <th>Year</th>\n",
       "      <th>Player</th>\n",
       "      <th>Pos</th>\n",
       "      <th>Age</th>\n",
       "      <th>Tm</th>\n",
       "      <th>G</th>\n",
       "      <th>GS</th>\n",
       "      <th>MP</th>\n",
       "      <th>PER</th>\n",
       "      <th>...</th>\n",
       "      <th>TOV</th>\n",
       "      <th>PF</th>\n",
       "      <th>PTS</th>\n",
       "      <th>Unnamed: 0_y</th>\n",
       "      <th>height</th>\n",
       "      <th>weight</th>\n",
       "      <th>collage</th>\n",
       "      <th>born</th>\n",
       "      <th>birth_city</th>\n",
       "      <th>birth_state</th>\n",
       "    </tr>\n",
       "  </thead>\n",
       "  <tbody>\n",
       "    <tr>\n",
       "      <th>0</th>\n",
       "      <td>0</td>\n",
       "      <td>1950.0</td>\n",
       "      <td>Curly Armstrong</td>\n",
       "      <td>G-F</td>\n",
       "      <td>31.0</td>\n",
       "      <td>FTW</td>\n",
       "      <td>63.0</td>\n",
       "      <td>NaN</td>\n",
       "      <td>NaN</td>\n",
       "      <td>NaN</td>\n",
       "      <td>...</td>\n",
       "      <td>NaN</td>\n",
       "      <td>217.0</td>\n",
       "      <td>458.0</td>\n",
       "      <td>0</td>\n",
       "      <td>180.0</td>\n",
       "      <td>77.0</td>\n",
       "      <td>Indiana University</td>\n",
       "      <td>1918.0</td>\n",
       "      <td>NaN</td>\n",
       "      <td>NaN</td>\n",
       "    </tr>\n",
       "    <tr>\n",
       "      <th>1</th>\n",
       "      <td>314</td>\n",
       "      <td>1951.0</td>\n",
       "      <td>Curly Armstrong</td>\n",
       "      <td>G-F</td>\n",
       "      <td>32.0</td>\n",
       "      <td>FTW</td>\n",
       "      <td>38.0</td>\n",
       "      <td>NaN</td>\n",
       "      <td>NaN</td>\n",
       "      <td>NaN</td>\n",
       "      <td>...</td>\n",
       "      <td>NaN</td>\n",
       "      <td>97.0</td>\n",
       "      <td>202.0</td>\n",
       "      <td>0</td>\n",
       "      <td>180.0</td>\n",
       "      <td>77.0</td>\n",
       "      <td>Indiana University</td>\n",
       "      <td>1918.0</td>\n",
       "      <td>NaN</td>\n",
       "      <td>NaN</td>\n",
       "    </tr>\n",
       "    <tr>\n",
       "      <th>2</th>\n",
       "      <td>1</td>\n",
       "      <td>1950.0</td>\n",
       "      <td>Cliff Barker</td>\n",
       "      <td>SG</td>\n",
       "      <td>29.0</td>\n",
       "      <td>INO</td>\n",
       "      <td>49.0</td>\n",
       "      <td>NaN</td>\n",
       "      <td>NaN</td>\n",
       "      <td>NaN</td>\n",
       "      <td>...</td>\n",
       "      <td>NaN</td>\n",
       "      <td>99.0</td>\n",
       "      <td>279.0</td>\n",
       "      <td>1</td>\n",
       "      <td>188.0</td>\n",
       "      <td>83.0</td>\n",
       "      <td>University of Kentucky</td>\n",
       "      <td>1921.0</td>\n",
       "      <td>Yorktown</td>\n",
       "      <td>Indiana</td>\n",
       "    </tr>\n",
       "    <tr>\n",
       "      <th>3</th>\n",
       "      <td>315</td>\n",
       "      <td>1951.0</td>\n",
       "      <td>Cliff Barker</td>\n",
       "      <td>SG</td>\n",
       "      <td>30.0</td>\n",
       "      <td>INO</td>\n",
       "      <td>56.0</td>\n",
       "      <td>NaN</td>\n",
       "      <td>NaN</td>\n",
       "      <td>NaN</td>\n",
       "      <td>...</td>\n",
       "      <td>NaN</td>\n",
       "      <td>98.0</td>\n",
       "      <td>152.0</td>\n",
       "      <td>1</td>\n",
       "      <td>188.0</td>\n",
       "      <td>83.0</td>\n",
       "      <td>University of Kentucky</td>\n",
       "      <td>1921.0</td>\n",
       "      <td>Yorktown</td>\n",
       "      <td>Indiana</td>\n",
       "    </tr>\n",
       "    <tr>\n",
       "      <th>4</th>\n",
       "      <td>489</td>\n",
       "      <td>1952.0</td>\n",
       "      <td>Cliff Barker</td>\n",
       "      <td>SG</td>\n",
       "      <td>31.0</td>\n",
       "      <td>INO</td>\n",
       "      <td>44.0</td>\n",
       "      <td>NaN</td>\n",
       "      <td>494.0</td>\n",
       "      <td>10.8</td>\n",
       "      <td>...</td>\n",
       "      <td>NaN</td>\n",
       "      <td>56.0</td>\n",
       "      <td>126.0</td>\n",
       "      <td>1</td>\n",
       "      <td>188.0</td>\n",
       "      <td>83.0</td>\n",
       "      <td>University of Kentucky</td>\n",
       "      <td>1921.0</td>\n",
       "      <td>Yorktown</td>\n",
       "      <td>Indiana</td>\n",
       "    </tr>\n",
       "    <tr>\n",
       "      <th>...</th>\n",
       "      <td>...</td>\n",
       "      <td>...</td>\n",
       "      <td>...</td>\n",
       "      <td>...</td>\n",
       "      <td>...</td>\n",
       "      <td>...</td>\n",
       "      <td>...</td>\n",
       "      <td>...</td>\n",
       "      <td>...</td>\n",
       "      <td>...</td>\n",
       "      <td>...</td>\n",
       "      <td>...</td>\n",
       "      <td>...</td>\n",
       "      <td>...</td>\n",
       "      <td>...</td>\n",
       "      <td>...</td>\n",
       "      <td>...</td>\n",
       "      <td>...</td>\n",
       "      <td>...</td>\n",
       "      <td>...</td>\n",
       "      <td>...</td>\n",
       "    </tr>\n",
       "    <tr>\n",
       "      <th>24685</th>\n",
       "      <td>24674</td>\n",
       "      <td>2017.0</td>\n",
       "      <td>Troy Williams</td>\n",
       "      <td>SF</td>\n",
       "      <td>22.0</td>\n",
       "      <td>HOU</td>\n",
       "      <td>6.0</td>\n",
       "      <td>3.0</td>\n",
       "      <td>139.0</td>\n",
       "      <td>12.8</td>\n",
       "      <td>...</td>\n",
       "      <td>6.0</td>\n",
       "      <td>18.0</td>\n",
       "      <td>58.0</td>\n",
       "      <td>3917</td>\n",
       "      <td>198.0</td>\n",
       "      <td>97.0</td>\n",
       "      <td>South Carolina State University</td>\n",
       "      <td>1969.0</td>\n",
       "      <td>Columbia</td>\n",
       "      <td>South Carolina</td>\n",
       "    </tr>\n",
       "    <tr>\n",
       "      <th>24686</th>\n",
       "      <td>24675</td>\n",
       "      <td>2017.0</td>\n",
       "      <td>Kyle Wiltjer</td>\n",
       "      <td>PF</td>\n",
       "      <td>24.0</td>\n",
       "      <td>HOU</td>\n",
       "      <td>14.0</td>\n",
       "      <td>0.0</td>\n",
       "      <td>44.0</td>\n",
       "      <td>6.7</td>\n",
       "      <td>...</td>\n",
       "      <td>5.0</td>\n",
       "      <td>4.0</td>\n",
       "      <td>13.0</td>\n",
       "      <td>3918</td>\n",
       "      <td>208.0</td>\n",
       "      <td>108.0</td>\n",
       "      <td>Gonzaga University</td>\n",
       "      <td>1992.0</td>\n",
       "      <td>Portland</td>\n",
       "      <td>Oregon</td>\n",
       "    </tr>\n",
       "    <tr>\n",
       "      <th>24687</th>\n",
       "      <td>24688</td>\n",
       "      <td>2017.0</td>\n",
       "      <td>Stephen Zimmerman</td>\n",
       "      <td>C</td>\n",
       "      <td>20.0</td>\n",
       "      <td>ORL</td>\n",
       "      <td>19.0</td>\n",
       "      <td>0.0</td>\n",
       "      <td>108.0</td>\n",
       "      <td>7.3</td>\n",
       "      <td>...</td>\n",
       "      <td>3.0</td>\n",
       "      <td>17.0</td>\n",
       "      <td>23.0</td>\n",
       "      <td>3919</td>\n",
       "      <td>213.0</td>\n",
       "      <td>108.0</td>\n",
       "      <td>University of Nevada, Las Vegas</td>\n",
       "      <td>1996.0</td>\n",
       "      <td>Hendersonville</td>\n",
       "      <td>Tennessee</td>\n",
       "    </tr>\n",
       "    <tr>\n",
       "      <th>24688</th>\n",
       "      <td>24689</td>\n",
       "      <td>2017.0</td>\n",
       "      <td>Paul Zipser</td>\n",
       "      <td>SF</td>\n",
       "      <td>22.0</td>\n",
       "      <td>CHI</td>\n",
       "      <td>44.0</td>\n",
       "      <td>18.0</td>\n",
       "      <td>843.0</td>\n",
       "      <td>6.9</td>\n",
       "      <td>...</td>\n",
       "      <td>40.0</td>\n",
       "      <td>78.0</td>\n",
       "      <td>240.0</td>\n",
       "      <td>3920</td>\n",
       "      <td>203.0</td>\n",
       "      <td>97.0</td>\n",
       "      <td>NaN</td>\n",
       "      <td>1994.0</td>\n",
       "      <td>Heidelberg</td>\n",
       "      <td>Germany</td>\n",
       "    </tr>\n",
       "    <tr>\n",
       "      <th>24689</th>\n",
       "      <td>24690</td>\n",
       "      <td>2017.0</td>\n",
       "      <td>Ivica Zubac</td>\n",
       "      <td>C</td>\n",
       "      <td>19.0</td>\n",
       "      <td>LAL</td>\n",
       "      <td>38.0</td>\n",
       "      <td>11.0</td>\n",
       "      <td>609.0</td>\n",
       "      <td>17.0</td>\n",
       "      <td>...</td>\n",
       "      <td>30.0</td>\n",
       "      <td>66.0</td>\n",
       "      <td>284.0</td>\n",
       "      <td>3921</td>\n",
       "      <td>216.0</td>\n",
       "      <td>120.0</td>\n",
       "      <td>NaN</td>\n",
       "      <td>1997.0</td>\n",
       "      <td>Mostar</td>\n",
       "      <td>Bosnia and Herzegovina</td>\n",
       "    </tr>\n",
       "  </tbody>\n",
       "</table>\n",
       "<p>24690 rows × 60 columns</p>\n",
       "</div>"
      ],
      "text/plain": [
       "       Unnamed: 0_x    Year             Player  Pos   Age   Tm     G    GS  \\\n",
       "0                 0  1950.0    Curly Armstrong  G-F  31.0  FTW  63.0   NaN   \n",
       "1               314  1951.0    Curly Armstrong  G-F  32.0  FTW  38.0   NaN   \n",
       "2                 1  1950.0       Cliff Barker   SG  29.0  INO  49.0   NaN   \n",
       "3               315  1951.0       Cliff Barker   SG  30.0  INO  56.0   NaN   \n",
       "4               489  1952.0       Cliff Barker   SG  31.0  INO  44.0   NaN   \n",
       "...             ...     ...                ...  ...   ...  ...   ...   ...   \n",
       "24685         24674  2017.0      Troy Williams   SF  22.0  HOU   6.0   3.0   \n",
       "24686         24675  2017.0       Kyle Wiltjer   PF  24.0  HOU  14.0   0.0   \n",
       "24687         24688  2017.0  Stephen Zimmerman    C  20.0  ORL  19.0   0.0   \n",
       "24688         24689  2017.0        Paul Zipser   SF  22.0  CHI  44.0  18.0   \n",
       "24689         24690  2017.0        Ivica Zubac    C  19.0  LAL  38.0  11.0   \n",
       "\n",
       "          MP   PER  ...   TOV     PF    PTS  Unnamed: 0_y  height  weight  \\\n",
       "0        NaN   NaN  ...   NaN  217.0  458.0             0   180.0    77.0   \n",
       "1        NaN   NaN  ...   NaN   97.0  202.0             0   180.0    77.0   \n",
       "2        NaN   NaN  ...   NaN   99.0  279.0             1   188.0    83.0   \n",
       "3        NaN   NaN  ...   NaN   98.0  152.0             1   188.0    83.0   \n",
       "4      494.0  10.8  ...   NaN   56.0  126.0             1   188.0    83.0   \n",
       "...      ...   ...  ...   ...    ...    ...           ...     ...     ...   \n",
       "24685  139.0  12.8  ...   6.0   18.0   58.0          3917   198.0    97.0   \n",
       "24686   44.0   6.7  ...   5.0    4.0   13.0          3918   208.0   108.0   \n",
       "24687  108.0   7.3  ...   3.0   17.0   23.0          3919   213.0   108.0   \n",
       "24688  843.0   6.9  ...  40.0   78.0  240.0          3920   203.0    97.0   \n",
       "24689  609.0  17.0  ...  30.0   66.0  284.0          3921   216.0   120.0   \n",
       "\n",
       "                               collage    born      birth_city  \\\n",
       "0                   Indiana University  1918.0             NaN   \n",
       "1                   Indiana University  1918.0             NaN   \n",
       "2               University of Kentucky  1921.0        Yorktown   \n",
       "3               University of Kentucky  1921.0        Yorktown   \n",
       "4               University of Kentucky  1921.0        Yorktown   \n",
       "...                                ...     ...             ...   \n",
       "24685  South Carolina State University  1969.0        Columbia   \n",
       "24686               Gonzaga University  1992.0        Portland   \n",
       "24687  University of Nevada, Las Vegas  1996.0  Hendersonville   \n",
       "24688                              NaN  1994.0      Heidelberg   \n",
       "24689                              NaN  1997.0          Mostar   \n",
       "\n",
       "                  birth_state  \n",
       "0                         NaN  \n",
       "1                         NaN  \n",
       "2                     Indiana  \n",
       "3                     Indiana  \n",
       "4                     Indiana  \n",
       "...                       ...  \n",
       "24685          South Carolina  \n",
       "24686                  Oregon  \n",
       "24687               Tennessee  \n",
       "24688                 Germany  \n",
       "24689  Bosnia and Herzegovina  \n",
       "\n",
       "[24690 rows x 60 columns]"
      ]
     },
     "execution_count": 6,
     "metadata": {},
     "output_type": "execute_result"
    }
   ],
   "source": [
    "df.drop_duplicates(keep='first')"
   ]
  },
  {
   "cell_type": "markdown",
   "id": "3266a6f8",
   "metadata": {},
   "source": [
    "This dataset has 24,690 entries and a total of 60 variables. "
   ]
  },
  {
   "cell_type": "code",
   "execution_count": 7,
   "id": "05d0110a",
   "metadata": {
    "scrolled": true
   },
   "outputs": [
    {
     "name": "stdout",
     "output_type": "stream",
     "text": [
      "<class 'pandas.core.frame.DataFrame'>\n",
      "Int64Index: 24690 entries, 0 to 24689\n",
      "Data columns (total 60 columns):\n",
      " #   Column        Non-Null Count  Dtype  \n",
      "---  ------        --------------  -----  \n",
      " 0   Unnamed: 0_x  24690 non-null  int64  \n",
      " 1   Year          24623 non-null  float64\n",
      " 2   Player        24623 non-null  object \n",
      " 3   Pos           24623 non-null  object \n",
      " 4   Age           24615 non-null  float64\n",
      " 5   Tm            24623 non-null  object \n",
      " 6   G             24623 non-null  float64\n",
      " 7   GS            18232 non-null  float64\n",
      " 8   MP            24137 non-null  float64\n",
      " 9   PER           24100 non-null  float64\n",
      " 10  TS%           24538 non-null  float64\n",
      " 11  3PAr          18839 non-null  float64\n",
      " 12  FTr           24525 non-null  float64\n",
      " 13  ORB%          20791 non-null  float64\n",
      " 14  DRB%          20791 non-null  float64\n",
      " 15  TRB%          21570 non-null  float64\n",
      " 16  AST%          22554 non-null  float64\n",
      " 17  STL%          20791 non-null  float64\n",
      " 18  BLK%          20791 non-null  float64\n",
      " 19  TOV%          19582 non-null  float64\n",
      " 20  USG%          19639 non-null  float64\n",
      " 21  blanl         0 non-null      float64\n",
      " 22  OWS           24584 non-null  float64\n",
      " 23  DWS           24584 non-null  float64\n",
      " 24  WS            24584 non-null  float64\n",
      " 25  WS/48         24100 non-null  float64\n",
      " 26  blank2        0 non-null      float64\n",
      " 27  OBPM          20796 non-null  float64\n",
      " 28  DBPM          20796 non-null  float64\n",
      " 29  BPM           20796 non-null  float64\n",
      " 30  VORP          20796 non-null  float64\n",
      " 31  FG            24623 non-null  float64\n",
      " 32  FGA           24623 non-null  float64\n",
      " 33  FG%           24525 non-null  float64\n",
      " 34  3P            18926 non-null  float64\n",
      " 35  3PA           18926 non-null  float64\n",
      " 36  3P%           15416 non-null  float64\n",
      " 37  2P            24623 non-null  float64\n",
      " 38  2PA           24623 non-null  float64\n",
      " 39  2P%           24496 non-null  float64\n",
      " 40  eFG%          24525 non-null  float64\n",
      " 41  FT            24623 non-null  float64\n",
      " 42  FTA           24623 non-null  float64\n",
      " 43  FT%           23766 non-null  float64\n",
      " 44  ORB           20796 non-null  float64\n",
      " 45  DRB           20796 non-null  float64\n",
      " 46  TRB           24311 non-null  float64\n",
      " 47  AST           24623 non-null  float64\n",
      " 48  STL           20796 non-null  float64\n",
      " 49  BLK           20796 non-null  float64\n",
      " 50  TOV           19644 non-null  float64\n",
      " 51  PF            24623 non-null  float64\n",
      " 52  PTS           24623 non-null  float64\n",
      " 53  Unnamed: 0_y  24690 non-null  int64  \n",
      " 54  height        24623 non-null  float64\n",
      " 55  weight        24623 non-null  float64\n",
      " 56  collage       22400 non-null  object \n",
      " 57  born          24623 non-null  float64\n",
      " 58  birth_city    22977 non-null  object \n",
      " 59  birth_state   22934 non-null  object \n",
      "dtypes: float64(52), int64(2), object(6)\n",
      "memory usage: 11.5+ MB\n"
     ]
    }
   ],
   "source": [
    "df.info()"
   ]
  },
  {
   "cell_type": "markdown",
   "id": "fa621e15",
   "metadata": {},
   "source": [
    "We will be selecting only the attributes that we want and are relevant to this project."
   ]
  },
  {
   "cell_type": "code",
   "execution_count": 8,
   "id": "95d7ecb2",
   "metadata": {},
   "outputs": [],
   "source": [
    "data_frame = df[[\"Player\",\"Year\",\"2PA\", \"2P%\", \"3PA\", \"3P%\", \"AST%\", \"BLK%\", \"eFG%\", \"FG%\", \"FT%\", \"height\", \"PER\",\n",
    "          \"Pos\", \"STL%\", \"TOV%\", \"TRB%\", \"weight\"]]"
   ]
  },
  {
   "cell_type": "code",
   "execution_count": 9,
   "id": "ffa64ed7",
   "metadata": {},
   "outputs": [
    {
     "data": {
      "text/html": [
       "<div>\n",
       "<style scoped>\n",
       "    .dataframe tbody tr th:only-of-type {\n",
       "        vertical-align: middle;\n",
       "    }\n",
       "\n",
       "    .dataframe tbody tr th {\n",
       "        vertical-align: top;\n",
       "    }\n",
       "\n",
       "    .dataframe thead th {\n",
       "        text-align: right;\n",
       "    }\n",
       "</style>\n",
       "<table border=\"1\" class=\"dataframe\">\n",
       "  <thead>\n",
       "    <tr style=\"text-align: right;\">\n",
       "      <th></th>\n",
       "      <th>Player</th>\n",
       "      <th>Year</th>\n",
       "      <th>2PA</th>\n",
       "      <th>2P%</th>\n",
       "      <th>3PA</th>\n",
       "      <th>3P%</th>\n",
       "      <th>AST%</th>\n",
       "      <th>BLK%</th>\n",
       "      <th>eFG%</th>\n",
       "      <th>FG%</th>\n",
       "      <th>FT%</th>\n",
       "      <th>height</th>\n",
       "      <th>PER</th>\n",
       "      <th>Pos</th>\n",
       "      <th>STL%</th>\n",
       "      <th>TOV%</th>\n",
       "      <th>TRB%</th>\n",
       "      <th>weight</th>\n",
       "    </tr>\n",
       "  </thead>\n",
       "  <tbody>\n",
       "    <tr>\n",
       "      <th>0</th>\n",
       "      <td>Curly Armstrong</td>\n",
       "      <td>1950.0</td>\n",
       "      <td>516.0</td>\n",
       "      <td>0.279</td>\n",
       "      <td>NaN</td>\n",
       "      <td>NaN</td>\n",
       "      <td>NaN</td>\n",
       "      <td>NaN</td>\n",
       "      <td>0.279</td>\n",
       "      <td>0.279</td>\n",
       "      <td>0.705</td>\n",
       "      <td>180.0</td>\n",
       "      <td>NaN</td>\n",
       "      <td>G-F</td>\n",
       "      <td>NaN</td>\n",
       "      <td>NaN</td>\n",
       "      <td>NaN</td>\n",
       "      <td>77.0</td>\n",
       "    </tr>\n",
       "    <tr>\n",
       "      <th>1</th>\n",
       "      <td>Curly Armstrong</td>\n",
       "      <td>1951.0</td>\n",
       "      <td>232.0</td>\n",
       "      <td>0.310</td>\n",
       "      <td>NaN</td>\n",
       "      <td>NaN</td>\n",
       "      <td>NaN</td>\n",
       "      <td>NaN</td>\n",
       "      <td>0.310</td>\n",
       "      <td>0.310</td>\n",
       "      <td>0.644</td>\n",
       "      <td>180.0</td>\n",
       "      <td>NaN</td>\n",
       "      <td>G-F</td>\n",
       "      <td>NaN</td>\n",
       "      <td>NaN</td>\n",
       "      <td>NaN</td>\n",
       "      <td>77.0</td>\n",
       "    </tr>\n",
       "    <tr>\n",
       "      <th>2</th>\n",
       "      <td>Cliff Barker</td>\n",
       "      <td>1950.0</td>\n",
       "      <td>274.0</td>\n",
       "      <td>0.372</td>\n",
       "      <td>NaN</td>\n",
       "      <td>NaN</td>\n",
       "      <td>NaN</td>\n",
       "      <td>NaN</td>\n",
       "      <td>0.372</td>\n",
       "      <td>0.372</td>\n",
       "      <td>0.708</td>\n",
       "      <td>188.0</td>\n",
       "      <td>NaN</td>\n",
       "      <td>SG</td>\n",
       "      <td>NaN</td>\n",
       "      <td>NaN</td>\n",
       "      <td>NaN</td>\n",
       "      <td>83.0</td>\n",
       "    </tr>\n",
       "    <tr>\n",
       "      <th>3</th>\n",
       "      <td>Cliff Barker</td>\n",
       "      <td>1951.0</td>\n",
       "      <td>202.0</td>\n",
       "      <td>0.252</td>\n",
       "      <td>NaN</td>\n",
       "      <td>NaN</td>\n",
       "      <td>NaN</td>\n",
       "      <td>NaN</td>\n",
       "      <td>0.252</td>\n",
       "      <td>0.252</td>\n",
       "      <td>0.649</td>\n",
       "      <td>188.0</td>\n",
       "      <td>NaN</td>\n",
       "      <td>SG</td>\n",
       "      <td>NaN</td>\n",
       "      <td>NaN</td>\n",
       "      <td>NaN</td>\n",
       "      <td>83.0</td>\n",
       "    </tr>\n",
       "    <tr>\n",
       "      <th>4</th>\n",
       "      <td>Cliff Barker</td>\n",
       "      <td>1952.0</td>\n",
       "      <td>161.0</td>\n",
       "      <td>0.298</td>\n",
       "      <td>NaN</td>\n",
       "      <td>NaN</td>\n",
       "      <td>NaN</td>\n",
       "      <td>NaN</td>\n",
       "      <td>0.298</td>\n",
       "      <td>0.298</td>\n",
       "      <td>0.588</td>\n",
       "      <td>188.0</td>\n",
       "      <td>10.8</td>\n",
       "      <td>SG</td>\n",
       "      <td>NaN</td>\n",
       "      <td>NaN</td>\n",
       "      <td>NaN</td>\n",
       "      <td>83.0</td>\n",
       "    </tr>\n",
       "  </tbody>\n",
       "</table>\n",
       "</div>"
      ],
      "text/plain": [
       "            Player    Year    2PA    2P%  3PA  3P%  AST%  BLK%   eFG%    FG%  \\\n",
       "0  Curly Armstrong  1950.0  516.0  0.279  NaN  NaN   NaN   NaN  0.279  0.279   \n",
       "1  Curly Armstrong  1951.0  232.0  0.310  NaN  NaN   NaN   NaN  0.310  0.310   \n",
       "2     Cliff Barker  1950.0  274.0  0.372  NaN  NaN   NaN   NaN  0.372  0.372   \n",
       "3     Cliff Barker  1951.0  202.0  0.252  NaN  NaN   NaN   NaN  0.252  0.252   \n",
       "4     Cliff Barker  1952.0  161.0  0.298  NaN  NaN   NaN   NaN  0.298  0.298   \n",
       "\n",
       "     FT%  height   PER  Pos  STL%  TOV%  TRB%  weight  \n",
       "0  0.705   180.0   NaN  G-F   NaN   NaN   NaN    77.0  \n",
       "1  0.644   180.0   NaN  G-F   NaN   NaN   NaN    77.0  \n",
       "2  0.708   188.0   NaN   SG   NaN   NaN   NaN    83.0  \n",
       "3  0.649   188.0   NaN   SG   NaN   NaN   NaN    83.0  \n",
       "4  0.588   188.0  10.8   SG   NaN   NaN   NaN    83.0  "
      ]
     },
     "execution_count": 9,
     "metadata": {},
     "output_type": "execute_result"
    }
   ],
   "source": [
    "data_frame.head()"
   ]
  },
  {
   "cell_type": "markdown",
   "id": "217d2699",
   "metadata": {},
   "source": [
    "As mentioned in the Literature Review, we will be selecting data after 1980 due to a lot of missing values prior to 1980. "
   ]
  },
  {
   "cell_type": "code",
   "execution_count": 10,
   "id": "f2d78006",
   "metadata": {},
   "outputs": [],
   "source": [
    "data_frame = data_frame[data_frame[\"Year\"] >= 1980.0]"
   ]
  },
  {
   "cell_type": "code",
   "execution_count": 11,
   "id": "98790001",
   "metadata": {},
   "outputs": [
    {
     "data": {
      "text/html": [
       "<div>\n",
       "<style scoped>\n",
       "    .dataframe tbody tr th:only-of-type {\n",
       "        vertical-align: middle;\n",
       "    }\n",
       "\n",
       "    .dataframe tbody tr th {\n",
       "        vertical-align: top;\n",
       "    }\n",
       "\n",
       "    .dataframe thead th {\n",
       "        text-align: right;\n",
       "    }\n",
       "</style>\n",
       "<table border=\"1\" class=\"dataframe\">\n",
       "  <thead>\n",
       "    <tr style=\"text-align: right;\">\n",
       "      <th></th>\n",
       "      <th>Player</th>\n",
       "      <th>Year</th>\n",
       "      <th>2PA</th>\n",
       "      <th>2P%</th>\n",
       "      <th>3PA</th>\n",
       "      <th>3P%</th>\n",
       "      <th>AST%</th>\n",
       "      <th>BLK%</th>\n",
       "      <th>eFG%</th>\n",
       "      <th>FG%</th>\n",
       "      <th>FT%</th>\n",
       "      <th>height</th>\n",
       "      <th>PER</th>\n",
       "      <th>Pos</th>\n",
       "      <th>STL%</th>\n",
       "      <th>TOV%</th>\n",
       "      <th>TRB%</th>\n",
       "      <th>weight</th>\n",
       "    </tr>\n",
       "  </thead>\n",
       "  <tbody>\n",
       "    <tr>\n",
       "      <th>1642</th>\n",
       "      <td>Jim Paxson</td>\n",
       "      <td>1980.0</td>\n",
       "      <td>438.0</td>\n",
       "      <td>0.429</td>\n",
       "      <td>22.0</td>\n",
       "      <td>0.045</td>\n",
       "      <td>15.9</td>\n",
       "      <td>0.2</td>\n",
       "      <td>0.412</td>\n",
       "      <td>0.411</td>\n",
       "      <td>0.711</td>\n",
       "      <td>198.0</td>\n",
       "      <td>9.1</td>\n",
       "      <td>SG</td>\n",
       "      <td>1.8</td>\n",
       "      <td>15.7</td>\n",
       "      <td>4.7</td>\n",
       "      <td>90.0</td>\n",
       "    </tr>\n",
       "    <tr>\n",
       "      <th>1643</th>\n",
       "      <td>Jim Paxson</td>\n",
       "      <td>1981.0</td>\n",
       "      <td>1062.0</td>\n",
       "      <td>0.549</td>\n",
       "      <td>30.0</td>\n",
       "      <td>0.067</td>\n",
       "      <td>15.3</td>\n",
       "      <td>0.2</td>\n",
       "      <td>0.537</td>\n",
       "      <td>0.536</td>\n",
       "      <td>0.734</td>\n",
       "      <td>198.0</td>\n",
       "      <td>16.9</td>\n",
       "      <td>SG</td>\n",
       "      <td>2.4</td>\n",
       "      <td>9.8</td>\n",
       "      <td>4.3</td>\n",
       "      <td>90.0</td>\n",
       "    </tr>\n",
       "    <tr>\n",
       "      <th>1644</th>\n",
       "      <td>Jim Paxson</td>\n",
       "      <td>1982.0</td>\n",
       "      <td>1223.0</td>\n",
       "      <td>0.535</td>\n",
       "      <td>35.0</td>\n",
       "      <td>0.229</td>\n",
       "      <td>14.8</td>\n",
       "      <td>0.2</td>\n",
       "      <td>0.529</td>\n",
       "      <td>0.526</td>\n",
       "      <td>0.767</td>\n",
       "      <td>198.0</td>\n",
       "      <td>18.0</td>\n",
       "      <td>SG</td>\n",
       "      <td>2.2</td>\n",
       "      <td>9.4</td>\n",
       "      <td>4.5</td>\n",
       "      <td>90.0</td>\n",
       "    </tr>\n",
       "    <tr>\n",
       "      <th>1645</th>\n",
       "      <td>Jim Paxson</td>\n",
       "      <td>1983.0</td>\n",
       "      <td>1298.0</td>\n",
       "      <td>0.522</td>\n",
       "      <td>25.0</td>\n",
       "      <td>0.160</td>\n",
       "      <td>13.5</td>\n",
       "      <td>0.3</td>\n",
       "      <td>0.517</td>\n",
       "      <td>0.515</td>\n",
       "      <td>0.812</td>\n",
       "      <td>198.0</td>\n",
       "      <td>20.1</td>\n",
       "      <td>SG</td>\n",
       "      <td>2.4</td>\n",
       "      <td>9.2</td>\n",
       "      <td>3.6</td>\n",
       "      <td>90.0</td>\n",
       "    </tr>\n",
       "    <tr>\n",
       "      <th>1646</th>\n",
       "      <td>Jim Paxson</td>\n",
       "      <td>1984.0</td>\n",
       "      <td>1263.0</td>\n",
       "      <td>0.525</td>\n",
       "      <td>59.0</td>\n",
       "      <td>0.288</td>\n",
       "      <td>14.1</td>\n",
       "      <td>0.2</td>\n",
       "      <td>0.521</td>\n",
       "      <td>0.514</td>\n",
       "      <td>0.841</td>\n",
       "      <td>198.0</td>\n",
       "      <td>19.5</td>\n",
       "      <td>SG</td>\n",
       "      <td>2.2</td>\n",
       "      <td>8.6</td>\n",
       "      <td>3.8</td>\n",
       "      <td>90.0</td>\n",
       "    </tr>\n",
       "  </tbody>\n",
       "</table>\n",
       "</div>"
      ],
      "text/plain": [
       "          Player    Year     2PA    2P%   3PA    3P%  AST%  BLK%   eFG%  \\\n",
       "1642  Jim Paxson  1980.0   438.0  0.429  22.0  0.045  15.9   0.2  0.412   \n",
       "1643  Jim Paxson  1981.0  1062.0  0.549  30.0  0.067  15.3   0.2  0.537   \n",
       "1644  Jim Paxson  1982.0  1223.0  0.535  35.0  0.229  14.8   0.2  0.529   \n",
       "1645  Jim Paxson  1983.0  1298.0  0.522  25.0  0.160  13.5   0.3  0.517   \n",
       "1646  Jim Paxson  1984.0  1263.0  0.525  59.0  0.288  14.1   0.2  0.521   \n",
       "\n",
       "        FG%    FT%  height   PER Pos  STL%  TOV%  TRB%  weight  \n",
       "1642  0.411  0.711   198.0   9.1  SG   1.8  15.7   4.7    90.0  \n",
       "1643  0.536  0.734   198.0  16.9  SG   2.4   9.8   4.3    90.0  \n",
       "1644  0.526  0.767   198.0  18.0  SG   2.2   9.4   4.5    90.0  \n",
       "1645  0.515  0.812   198.0  20.1  SG   2.4   9.2   3.6    90.0  \n",
       "1646  0.514  0.841   198.0  19.5  SG   2.2   8.6   3.8    90.0  "
      ]
     },
     "execution_count": 11,
     "metadata": {},
     "output_type": "execute_result"
    }
   ],
   "source": [
    "data_frame.head()"
   ]
  },
  {
   "cell_type": "markdown",
   "id": "8f0ba464",
   "metadata": {},
   "source": [
    "In the NBA, there are 5 main positions to be played (Centre (C), Power Forward (PF), Point Guard (PG), Small Forward (SF) and Shooting Guard (SG)). This dataset contains some players who can play multiple positions but since there are not a lot of players who play multiple positions, we will be narrowing down those players to be the prominent position that they normally play. For example, for C-PF, we will be categorizing them to play the centre position instead. "
   ]
  },
  {
   "cell_type": "code",
   "execution_count": 12,
   "id": "963ca45d",
   "metadata": {},
   "outputs": [],
   "source": [
    "data_frame = data_frame.replace(['C-PF'],'C')\n",
    "data_frame = data_frame.replace(['PF-SF'],'PF')\n",
    "data_frame = data_frame.replace(['SF-SG'],'SF')\n",
    "data_frame = data_frame.replace(['SG-PG'],'SG')\n",
    "data_frame = data_frame.replace(['SG-PF'],'SG')\n",
    "data_frame = data_frame.replace(['C-SF'],'C')\n",
    "data_frame = data_frame.replace(['SG-SF'],'SG')\n",
    "data_frame = data_frame.replace(['PG-SG'],'PG')\n",
    "data_frame = data_frame.replace(['SF-PF'],'SF')\n",
    "data_frame = data_frame.replace(['PG-SF'],'PG')\n",
    "data_frame = data_frame.replace(['PF-C'],'PF')"
   ]
  },
  {
   "cell_type": "code",
   "execution_count": 13,
   "id": "5483e8f4",
   "metadata": {},
   "outputs": [
    {
     "data": {
      "text/plain": [
       "(18926, 18)"
      ]
     },
     "execution_count": 13,
     "metadata": {},
     "output_type": "execute_result"
    }
   ],
   "source": [
    "data_frame.shape"
   ]
  },
  {
   "cell_type": "code",
   "execution_count": 14,
   "id": "f8902b6a",
   "metadata": {},
   "outputs": [
    {
     "data": {
      "text/plain": [
       "Player       0\n",
       "Year         0\n",
       "2PA          0\n",
       "2P%        116\n",
       "3PA          0\n",
       "3P%       3510\n",
       "AST%         5\n",
       "BLK%         5\n",
       "eFG%        87\n",
       "FG%         87\n",
       "FT%        744\n",
       "height       0\n",
       "PER          5\n",
       "Pos          0\n",
       "STL%         5\n",
       "TOV%        60\n",
       "TRB%         5\n",
       "weight       0\n",
       "dtype: int64"
      ]
     },
     "execution_count": 14,
     "metadata": {},
     "output_type": "execute_result"
    }
   ],
   "source": [
    "##Missing Value\n",
    "data_frame.isnull().sum()"
   ]
  },
  {
   "cell_type": "markdown",
   "id": "bcbfb544",
   "metadata": {},
   "source": [
    "There are several attributes that have missing values (2P%, 3P%, eFG%, FG%, FT%, PER, TOV%, TRB%). Some of these missing values are due to the fact that the player did not attempt that shot for the season making it NaN. For example - a player may not attempt a 3 point shot or free throw for the season so they do not have a 3 point percentage. Since we know the reason as to why these missing values occur, we will not be removing the entire row from the dataset but instead replacing missing values with the mean or median value of that attribute later on in the project."
   ]
  },
  {
   "cell_type": "markdown",
   "id": "338d79df",
   "metadata": {},
   "source": [
    "#### Initial Results for Question 1"
   ]
  },
  {
   "cell_type": "markdown",
   "id": "ee15eb0e",
   "metadata": {},
   "source": [
    "Below is a scatter plot of the amount of 3 point attempts from 1980 to 2017. 1980 was when the three point shot was first introduced and we can see by looking at the scatterplot and the regression line? that the 3 point attempt has increased over the 35 years. This means that more players are utilizing the 3 point shot as a way to score in the game."
   ]
  },
  {
   "cell_type": "code",
   "execution_count": 15,
   "id": "8eb9c5f8",
   "metadata": {},
   "outputs": [
    {
     "data": {
      "text/plain": [
       "[Text(0.5, 1.0, 'NBA 3 Point Attempts')]"
      ]
     },
     "execution_count": 15,
     "metadata": {},
     "output_type": "execute_result"
    },
    {
     "data": {
      "image/png": "[encoded data removed]",
      "text/plain": [
       "<Figure size 432x288 with 1 Axes>"
      ]
     },
     "metadata": {
      "needs_background": "light"
     },
     "output_type": "display_data"
    }
   ],
   "source": [
    "sns.regplot(x='Year', y='3PA', data=data_frame,\n",
    "           line_kws={\"color\": \"red\"}).set(title='NBA 3 Point Attempts')"
   ]
  },
  {
   "cell_type": "markdown",
   "id": "a2f151fb",
   "metadata": {},
   "source": [
    "We can see that with a rise of 3 point attempts over the years, this caused a decrease in the amount of 2 point attempts as well. From our literature review, a study noticed that there has been a decrease in 2 point attempts due to the fact that many teams are looking for players who have an empty shot at shooting a 3 point ball. The below scatter plot proves that theory."
   ]
  },
  {
   "cell_type": "code",
   "execution_count": 16,
   "id": "bf2bb069",
   "metadata": {},
   "outputs": [
    {
     "data": {
      "text/plain": [
       "[Text(0.5, 1.0, 'NBA 2 Point Attempts')]"
      ]
     },
     "execution_count": 16,
     "metadata": {},
     "output_type": "execute_result"
    },
    {
     "data": {
      "image/png": "[encoded data removed]",
      "text/plain": [
       "<Figure size 432x288 with 1 Axes>"
      ]
     },
     "metadata": {
      "needs_background": "light"
     },
     "output_type": "display_data"
    }
   ],
   "source": [
    "sns.regplot(x='Year', y='2PA', data=data_frame,\n",
    "           line_kws={\"color\": \"red\"}).set(title='NBA 2 Point Attempts')"
   ]
  },
  {
   "cell_type": "markdown",
   "id": "dcb7c3e3",
   "metadata": {},
   "source": [
    "Free throw percentages have been pretty stagnant over the 35 years. This shows that players have been making sure that their free throw attempts are at a good level as it is a quick and easy way to help the team score additional points. "
   ]
  },
  {
   "cell_type": "code",
   "execution_count": 17,
   "id": "4793c18d",
   "metadata": {},
   "outputs": [
    {
     "data": {
      "text/plain": [
       "[Text(0.5, 1.0, 'NBA Free Throw Percentage')]"
      ]
     },
     "execution_count": 17,
     "metadata": {},
     "output_type": "execute_result"
    },
    {
     "data": {
      "image/png": "[encoded data removed]",
      "text/plain": [
       "<Figure size 432x288 with 1 Axes>"
      ]
     },
     "metadata": {
      "needs_background": "light"
     },
     "output_type": "display_data"
    }
   ],
   "source": [
    "sns.regplot(x='Year', y='FT%', data=data_frame,\n",
    "           line_kws={\"color\": \"red\"}).set(title='NBA Free Throw Percentage')"
   ]
  },
  {
   "cell_type": "code",
   "execution_count": 18,
   "id": "292cc7c8",
   "metadata": {},
   "outputs": [
    {
     "data": {
      "text/plain": [
       "[Text(0.5, 1.0, 'NBA Field Goal Percentage')]"
      ]
     },
     "execution_count": 18,
     "metadata": {},
     "output_type": "execute_result"
    },
    {
     "data": {
      "image/png": "[encoded data removed]",
      "text/plain": [
       "<Figure size 432x288 with 1 Axes>"
      ]
     },
     "metadata": {
      "needs_background": "light"
     },
     "output_type": "display_data"
    }
   ],
   "source": [
    "sns.regplot(x='Year', y='FG%', data=data_frame,\n",
    "           line_kws={\"color\": \"red\"}).set(title='NBA Field Goal Percentage')"
   ]
  },
  {
   "cell_type": "markdown",
   "id": "a77056b6",
   "metadata": {},
   "source": [
    "To see how basketball techniques have evolved throughout the years, we will be comparing two of the most popular players over the decades. We will be comparing Michael Jordan and Stephen Curry. Both of these players have been known as being the best players in the NBA to date. "
   ]
  },
  {
   "cell_type": "code",
   "execution_count": 19,
   "id": "8bea7031",
   "metadata": {},
   "outputs": [],
   "source": [
    "michael = data_frame[data_frame[\"Player\"] == 'Michael Jordan*']\n",
    "steph = data_frame[data_frame[\"Player\"] == 'Stephen Curry']"
   ]
  },
  {
   "cell_type": "code",
   "execution_count": 20,
   "id": "00fdf09a",
   "metadata": {},
   "outputs": [
    {
     "data": {
      "text/plain": [
       "Text(0.5, 1.0, 'Stephen Curry over the Years')"
      ]
     },
     "execution_count": 20,
     "metadata": {},
     "output_type": "execute_result"
    },
    {
     "data": {
      "image/png": "[encoded data removed]",
      "text/plain": [
       "<Figure size 432x288 with 2 Axes>"
      ]
     },
     "metadata": {
      "needs_background": "light"
     },
     "output_type": "display_data"
    }
   ],
   "source": [
    "ax1 = plt.subplot(1, 2, 1)\n",
    "plt.plot(michael['Year'], michael['3P%'])\n",
    "plt.plot(michael['Year'], michael['2P%'])\n",
    "plt.plot(michael['Year'], michael['FT%'])\n",
    "plt.legend([\"3P%\", \"2P%\", \"FT%\"])\n",
    "plt.title(\"Michael Jordan over the Years\")\n",
    "\n",
    "ax2 = plt.subplot(1, 2, 2, sharey=ax1)\n",
    "plt.plot(steph['Year'], steph['3P%'])\n",
    "plt.plot(steph['Year'], steph['2P%'])\n",
    "plt.plot(steph['Year'], steph['FT%'])\n",
    "plt.legend([\"3P%\", \"2P%\", \"FT%\"])\n",
    "plt.title(\"Stephen Curry over the Years\")"
   ]
  },
  {
   "cell_type": "markdown",
   "id": "d689d754",
   "metadata": {},
   "source": [
    "From looking at the graph above, it's clear that Stephen Curry has put a lot more focus and attention on 3 Point throws. There is the spike in 1995 where Michael Jordan's three point percentaged increased but caused a drop in his two point percentage. A reason for this increase in 3P% may be due to the fact that the NBA changed the three point line to be closer for a few years before ultimately moving the three point line back. Stephen Curry has been consistent in all types of shots. Over the years, players have realized that it is important to be consistent in all types of shooting instead of focusing to excel on a certain type. "
   ]
  },
  {
   "cell_type": "markdown",
   "id": "0ee9f608",
   "metadata": {},
   "source": [
    "#### Initial Results for Question 2"
   ]
  },
  {
   "cell_type": "code",
   "execution_count": 21,
   "id": "eed6f6d6",
   "metadata": {},
   "outputs": [],
   "source": [
    "## Replace NaN Values\n",
    "data_frame['2P%'].fillna(int(data_frame['2P%'].mean()), inplace=True)\n",
    "data_frame['3P%'].fillna(int(data_frame['3P%'].mean()), inplace=True)\n",
    "data_frame['AST%'].fillna(int(data_frame['AST%'].median()), inplace=True)\n",
    "data_frame['BLK%'].fillna(int(data_frame['BLK%'].median()), inplace=True)\n",
    "data_frame['eFG%'].fillna(int(data_frame['eFG%'].median()), inplace=True)\n",
    "data_frame['FG%'].fillna(int(data_frame['FG%'].mean()), inplace=True)\n",
    "data_frame['FT%'].fillna(int(data_frame['FT%'].median()), inplace=True)\n",
    "data_frame['PER'].fillna(int(data_frame['PER'].mean()), inplace=True)\n",
    "data_frame['STL%'].fillna(int(data_frame['STL%'].median()), inplace=True)\n",
    "data_frame['TOV%'].fillna(int(data_frame['TOV%'].median()), inplace=True)\n",
    "data_frame['TRB%'].fillna(int(data_frame['TRB%'].median()), inplace=True)"
   ]
  },
  {
   "cell_type": "markdown",
   "id": "28ba1e26",
   "metadata": {},
   "source": [
    "## Multinomial Logistic Regression"
   ]
  },
  {
   "cell_type": "code",
   "execution_count": 22,
   "id": "64ebb46e",
   "metadata": {},
   "outputs": [],
   "source": [
    "X = data_frame[list(set(list(data_frame)) - set(['Pos','Player']))]\n",
    "y = data_frame['Pos']\n",
    "x_train, x_test, y_train, y_test = train_test_split(X, y, test_size=0.30, random_state=42)"
   ]
  },
  {
   "cell_type": "code",
   "execution_count": 23,
   "id": "8358bd6c",
   "metadata": {},
   "outputs": [
    {
     "data": {
      "text/plain": [
       "LogisticRegression(max_iter=10000, multi_class='multinomial', penalty='none',\n",
       "                   random_state=0, solver='saga')"
      ]
     },
     "execution_count": 23,
     "metadata": {},
     "output_type": "execute_result"
    }
   ],
   "source": [
    "model1 = LogisticRegression(random_state=0, multi_class='multinomial', penalty='none', solver='saga', max_iter = 10000).fit(x_train, y_train)\n",
    "model1"
   ]
  },
  {
   "cell_type": "code",
   "execution_count": 24,
   "id": "3e549d7a",
   "metadata": {},
   "outputs": [
    {
     "data": {
      "text/plain": [
       "array(['PG', 'SG', 'SF', ..., 'PG', 'PF', 'SG'], dtype=object)"
      ]
     },
     "execution_count": 24,
     "metadata": {},
     "output_type": "execute_result"
    }
   ],
   "source": [
    "y_pred = model1.predict(x_test)\n",
    "y_pred"
   ]
  },
  {
   "cell_type": "code",
   "execution_count": 25,
   "id": "6bda2908",
   "metadata": {},
   "outputs": [
    {
     "data": {
      "text/html": [
       "<div>\n",
       "<style scoped>\n",
       "    .dataframe tbody tr th:only-of-type {\n",
       "        vertical-align: middle;\n",
       "    }\n",
       "\n",
       "    .dataframe tbody tr th {\n",
       "        vertical-align: top;\n",
       "    }\n",
       "\n",
       "    .dataframe thead th {\n",
       "        text-align: right;\n",
       "    }\n",
       "</style>\n",
       "<table border=\"1\" class=\"dataframe\">\n",
       "  <thead>\n",
       "    <tr style=\"text-align: right;\">\n",
       "      <th>Predicted</th>\n",
       "      <th>C</th>\n",
       "      <th>PF</th>\n",
       "      <th>PG</th>\n",
       "      <th>SF</th>\n",
       "      <th>SG</th>\n",
       "    </tr>\n",
       "    <tr>\n",
       "      <th>Actual</th>\n",
       "      <th></th>\n",
       "      <th></th>\n",
       "      <th></th>\n",
       "      <th></th>\n",
       "      <th></th>\n",
       "    </tr>\n",
       "  </thead>\n",
       "  <tbody>\n",
       "    <tr>\n",
       "      <th>C</th>\n",
       "      <td>882</td>\n",
       "      <td>197</td>\n",
       "      <td>3</td>\n",
       "      <td>50</td>\n",
       "      <td>3</td>\n",
       "    </tr>\n",
       "    <tr>\n",
       "      <th>PF</th>\n",
       "      <td>254</td>\n",
       "      <td>789</td>\n",
       "      <td>1</td>\n",
       "      <td>155</td>\n",
       "      <td>24</td>\n",
       "    </tr>\n",
       "    <tr>\n",
       "      <th>PG</th>\n",
       "      <td>1</td>\n",
       "      <td>0</td>\n",
       "      <td>979</td>\n",
       "      <td>9</td>\n",
       "      <td>174</td>\n",
       "    </tr>\n",
       "    <tr>\n",
       "      <th>SF</th>\n",
       "      <td>16</td>\n",
       "      <td>187</td>\n",
       "      <td>10</td>\n",
       "      <td>637</td>\n",
       "      <td>207</td>\n",
       "    </tr>\n",
       "    <tr>\n",
       "      <th>SG</th>\n",
       "      <td>3</td>\n",
       "      <td>18</td>\n",
       "      <td>154</td>\n",
       "      <td>199</td>\n",
       "      <td>726</td>\n",
       "    </tr>\n",
       "  </tbody>\n",
       "</table>\n",
       "</div>"
      ],
      "text/plain": [
       "Predicted    C   PF   PG   SF   SG\n",
       "Actual                            \n",
       "C          882  197    3   50    3\n",
       "PF         254  789    1  155   24\n",
       "PG           1    0  979    9  174\n",
       "SF          16  187   10  637  207\n",
       "SG           3   18  154  199  726"
      ]
     },
     "execution_count": 25,
     "metadata": {},
     "output_type": "execute_result"
    }
   ],
   "source": [
    "confusion_matrix = pd.crosstab(y_test, y_pred, rownames=['Actual'], colnames=['Predicted'])\n",
    "confusion_matrix"
   ]
  },
  {
   "cell_type": "code",
   "execution_count": 26,
   "id": "d3fa8b21",
   "metadata": {},
   "outputs": [
    {
     "name": "stdout",
     "output_type": "stream",
     "text": [
      "              precision    recall  f1-score   support\n",
      "\n",
      "           C       0.76      0.78      0.77      1135\n",
      "          PF       0.66      0.65      0.65      1223\n",
      "          PG       0.85      0.84      0.85      1163\n",
      "          SF       0.61      0.60      0.60      1057\n",
      "          SG       0.64      0.66      0.65      1100\n",
      "\n",
      "    accuracy                           0.71      5678\n",
      "   macro avg       0.71      0.71      0.71      5678\n",
      "weighted avg       0.71      0.71      0.71      5678\n",
      "\n"
     ]
    }
   ],
   "source": [
    "print(classification_report(y_test, y_pred))"
   ]
  },
  {
   "cell_type": "code",
   "execution_count": 27,
   "id": "57cbc07b",
   "metadata": {},
   "outputs": [
    {
     "data": {
      "text/plain": [
       "0.6333200394980081"
      ]
     },
     "execution_count": 27,
     "metadata": {},
     "output_type": "execute_result"
    }
   ],
   "source": [
    "# Matthews Correlation Score\n",
    "matthews_corrcoef(y_test, y_pred)"
   ]
  },
  {
   "cell_type": "code",
   "execution_count": 28,
   "id": "9de6bb15",
   "metadata": {},
   "outputs": [],
   "source": [
    "#Repeated K Fold Cross Validation with a 10 split\n",
    "cv = RepeatedKFold(n_splits=10, n_repeats=3, random_state=1)\n",
    "scores = cross_val_score(model1, X, y, scoring='accuracy', cv=cv, n_jobs=-1)"
   ]
  },
  {
   "cell_type": "code",
   "execution_count": 29,
   "id": "2cbe825b",
   "metadata": {},
   "outputs": [
    {
     "name": "stdout",
     "output_type": "stream",
     "text": [
      "Accuracy: 0.704 (0.006)\n"
     ]
    }
   ],
   "source": [
    "print('Accuracy: %.3f (%.3f)' % (mean(scores), std(scores)))"
   ]
  },
  {
   "cell_type": "code",
   "execution_count": 30,
   "id": "371e1422",
   "metadata": {},
   "outputs": [],
   "source": [
    "#Repeated K Fold Cross Validation with a 15 split\n",
    "cv_15 = RepeatedKFold(n_splits=15, n_repeats=3, random_state=1)\n",
    "scores_15 = cross_val_score(model1, X, y, scoring='accuracy', cv=cv_15, n_jobs=-1)"
   ]
  },
  {
   "cell_type": "code",
   "execution_count": 31,
   "id": "1ddb746c",
   "metadata": {},
   "outputs": [
    {
     "name": "stdout",
     "output_type": "stream",
     "text": [
      "Accuracy: 0.704 (0.011)\n"
     ]
    }
   ],
   "source": [
    "print('Accuracy: %.3f (%.3f)' % (mean(scores_15), std(scores_15)))"
   ]
  }
 ],
 "metadata": {
  "kernelspec": {
   "display_name": "Python 3 (ipykernel)",
   "language": "python",
   "name": "python3"
  },
  "language_info": {
   "codemirror_mode": {
    "name": "ipython",
    "version": 3
   },
   "file_extension": ".py",
   "mimetype": "text/x-python",
   "name": "python",
   "nbconvert_exporter": "python",
   "pygments_lexer": "ipython3",
   "version": "3.9.12"
  }
 },
 "nbformat": 4,
 "nbformat_minor": 5
}
